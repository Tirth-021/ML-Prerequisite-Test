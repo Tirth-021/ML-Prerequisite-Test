{
 "cells": [
  {
   "cell_type": "markdown",
   "id": "1b92c08d",
   "metadata": {},
   "source": [
    "##### **1. How many multiplications and additions do you need to perform a matrix multiplication between a (n, k) and (k, m) matrix? Explain.**\n",
    "\n",
    "**Answer**:\n",
    "\n",
    "Using classical approach:\n",
    "- For calculating the $c_{i,j} = \\sum_{k=1}^{n} a_{i,k} \\cdot b_{k,j}$, this computation needs order of N<sup>3</sup>.\n",
    "- The number of multiplications in this method would be NxKxM.\n",
    "- For example we are multiplying 2 matrices having dimension 2X2, we would be multiplying 8 times(2X2X2).\n",
    "- For the same algorithm the number of additions would be NxMx(K-1). Considering the same example we would be doing addition operation 4 times   (2X2X1).\n",
    "\n",
    "Using Strassen's algorithm:\n",
    "- Volker Strassen, German mathematician proposed a new algorithm in which the bigger matrices are broken down into smaller ones and then multiplied.\n",
    "- This approach reduced the number of operations needed to multiply the matrices.\n",
    "- If matrices are a sqaure matricies of NxN, scalar multiplications are n<sup>log<sub>2</sub>7</sup>\n",
    "- In case of generalised matrix, A<sub>NXK</sub>⋅ B<sub>KXM</sub>, we get S=next_power_of_two(max(n,k,m))[Padding A and B both with zeros to make it sqaure matrix].\n",
    "- Additions for this algorithm is nearly 6(n<sup>log<sub>2</sub>7</sup> - n<sup>2</sup>)."
   ]
  },
  {
   "cell_type": "markdown",
   "id": "89a8289f",
   "metadata": {},
   "source": [
    "##### **2.Write Python code to multiply the above two matrices. Solve using list of lists and then use numpy. Compare the timing of both solutions. Which one is faster? Why?**"
   ]
  },
  {
   "cell_type": "code",
   "execution_count": 2,
   "id": "2a3c671e",
   "metadata": {},
   "outputs": [
    {
     "name": "stdout",
     "output_type": "stream",
     "text": [
      "Collecting numpy\n",
      "  Downloading numpy-2.3.2-cp311-cp311-win_amd64.whl.metadata (60 kB)\n",
      "Downloading numpy-2.3.2-cp311-cp311-win_amd64.whl (13.1 MB)\n",
      "   ---------------------------------------- 0.0/13.1 MB ? eta -:--:--\n",
      "   ---- ----------------------------------- 1.3/13.1 MB 7.4 MB/s eta 0:00:02\n",
      "   -------- ------------------------------- 2.9/13.1 MB 7.3 MB/s eta 0:00:02\n",
      "   ------------- -------------------------- 4.5/13.1 MB 7.1 MB/s eta 0:00:02\n",
      "   ----------------- ---------------------- 5.8/13.1 MB 7.0 MB/s eta 0:00:02\n",
      "   ---------------------- ----------------- 7.3/13.1 MB 7.1 MB/s eta 0:00:01\n",
      "   ---------------------------- ----------- 9.2/13.1 MB 7.2 MB/s eta 0:00:01\n",
      "   -------------------------------- ------- 10.7/13.1 MB 7.2 MB/s eta 0:00:01\n",
      "   ------------------------------------- -- 12.3/13.1 MB 7.2 MB/s eta 0:00:01\n",
      "   ---------------------------------------- 13.1/13.1 MB 7.0 MB/s  0:00:01\n",
      "Installing collected packages: numpy\n",
      "Successfully installed numpy-2.3.2\n"
     ]
    }
   ],
   "source": [
    "!pip install numpy"
   ]
  },
  {
   "cell_type": "code",
   "execution_count": 3,
   "id": "b9608efd",
   "metadata": {},
   "outputs": [
    {
     "name": "stdout",
     "output_type": "stream",
     "text": [
      "Matrices dimensions: A(61×99), B(99×75)\n",
      "List-of-lists time: 0.088779 seconds\n",
      "NumPy time:         0.002004 seconds\n"
     ]
    }
   ],
   "source": [
    "import time\n",
    "import numpy as np\n",
    "import random\n",
    "\n",
    "def generate_random_matrices(n, k, m, lower=0, upper=10):\n",
    "    \n",
    "    A_list = [[random.randint(lower, upper) for _ in range(k)] for _ in range(n)]\n",
    "    B_list = [[random.randint(lower, upper) for _ in range(m)] for _ in range(k)]\n",
    "    A_np = np.array(A_list) #making generated array in numpy array\n",
    "    B_np = np.array(B_list)\n",
    "    return A_list, B_list, A_np, B_np\n",
    "\n",
    "def list_of__list(A, B):\n",
    "    n, k, m = len(A), len(A[0]), len(B[0])\n",
    "    C = [[0] * m for _ in range(n)]\n",
    "    for i in range(n):\n",
    "        for j in range(m):\n",
    "            for t in range(k):\n",
    "                C[i][j] += A[i][t] * B[t][j]\n",
    "    return C\n",
    "\n",
    "def multiply_with_numpy(A, B):\n",
    "    return np.dot(A, B)\n",
    "\n",
    "n = random.randint(50, 150)\n",
    "k = random.randint(50, 150)\n",
    "m = random.randint(50, 150)\n",
    "\n",
    "A_list, B_list, A_np, B_np = generate_random_matrices(n, k, m)\n",
    "\n",
    "#Timing of list method\n",
    "start = time.time()\n",
    "_ = list_of__list(A_list, B_list)\n",
    "t_list = time.time() - start\n",
    "\n",
    "# Timing of numpy\n",
    "start = time.time()\n",
    "_ = multiply_with_numpy(A_np, B_np)\n",
    "t_numpy = time.time() - start\n",
    "\n",
    "# Output results\n",
    "print(f\"Matrices dimensions: A({n}×{k}), B({k}×{m})\")\n",
    "print(f\"List-of-lists time: {t_list:.6f} seconds\")\n",
    "print(f\"NumPy time:         {t_numpy:.6f} seconds\")\n"
   ]
  },
  {
   "cell_type": "markdown",
   "id": "1fbe7a3d",
   "metadata": {},
   "source": [
    "Here Numpy multiplication clearly wins, because the Numpy is using directly using C backend which develivers a greater speed compared to python lists. Using lists of list method might come close to numpy for smaller matricies but for larger dimensions , numpy have a clear edge. \n",
    "\n",
    "However using just lists of list we can make it better if we use Strassen algorithm and the timings can be compared as below."
   ]
  },
  {
   "cell_type": "code",
   "execution_count": 20,
   "id": "37ef22b5",
   "metadata": {},
   "outputs": [
    {
     "name": "stdout",
     "output_type": "stream",
     "text": [
      "Matrix size: 512x512\n",
      "List of lists method time: 29.450087 seconds\n",
      "Strassen time:              21.125862 seconds\n"
     ]
    }
   ],
   "source": [
    "import time\n",
    "import random\n",
    "\n",
    "def generate_random_square_matrix(n, lower=0, upper=10):\n",
    "    A_list = [[random.randint(lower, upper) for _ in range(n)] for _ in range(n)]\n",
    "    B_list = [[random.randint(lower, upper) for _ in range(n)] for _ in range(n)]\n",
    "    return A_list, B_list\n",
    "\n",
    "def list_of__list(A, B, n):\n",
    "    C = [[0] * n for _ in range(n)]\n",
    "    for i in range(n):\n",
    "        for j in range(n):\n",
    "            for k in range(n):\n",
    "                C[i][j] += A[i][k] * B[k][j]\n",
    "    return C\n",
    "\n",
    "def add_matrix(A, B, n):\n",
    "    return [[A[i][j] + B[i][j] for j in range(n)] for i in range(n)]\n",
    "\n",
    "def sub_matrix(A, B, n):\n",
    "    return [[A[i][j] - B[i][j] for j in range(n)] for i in range(n)]\n",
    "\n",
    "\n",
    "def strassen(A, B):\n",
    "    n = len(A)\n",
    "    return strassen_recursive(A, B, n)\n",
    "\n",
    "def strassen_recursive(A, B, n):\n",
    "    # Base case for recursion: switch to standard multiplication\n",
    "    if n <= 64:\n",
    "        return list_of__list(A, B, n)\n",
    "\n",
    "    mid = n // 2\n",
    "    \n",
    "\n",
    "    A11 = [row[:mid] for row in A[:mid]]\n",
    "    A12 = [row[mid:] for row in A[:mid]]\n",
    "    A21 = [row[:mid] for row in A[mid:]]\n",
    "    A22 = [row[mid:] for row in A[mid:]]\n",
    "    \n",
    "    B11 = [row[:mid] for row in B[:mid]]\n",
    "    B12 = [row[mid:] for row in B[:mid]]\n",
    "    B21 = [row[:mid] for row in B[mid:]]\n",
    "    B22 = [row[mid:] for row in B[mid:]]\n",
    "\n",
    "    M1 = strassen_recursive(add_matrix(A11, A22, mid), add_matrix(B11, B22, mid), mid)\n",
    "    M2 = strassen_recursive(add_matrix(A21, A22, mid), B11, mid)\n",
    "    M3 = strassen_recursive(A11, sub_matrix(B12, B22, mid), mid)\n",
    "    M4 = strassen_recursive(A22, sub_matrix(B21, B11, mid), mid)\n",
    "    M5 = strassen_recursive(add_matrix(A11, A12, mid), B22, mid)\n",
    "    M6 = strassen_recursive(sub_matrix(A21, A11, mid), add_matrix(B11, B12, mid), mid)\n",
    "    M7 = strassen_recursive(sub_matrix(A12, A22, mid), add_matrix(B21, B22, mid), mid)\n",
    "    \n",
    "\n",
    "    C11 = add_matrix(sub_matrix(add_matrix(M1, M4, mid), M5, mid), M7, mid)\n",
    "    C12 = add_matrix(M3, M5, mid)\n",
    "    C21 = add_matrix(M2, M4, mid)\n",
    "    C22 = add_matrix(sub_matrix(add_matrix(M1, M3, mid), M2, mid), M6, mid)\n",
    "\n",
    "    C = [[0] * n for _ in range(n)]\n",
    "    for i in range(mid):\n",
    "        for j in range(mid):\n",
    "            C[i][j] = C11[i][j]\n",
    "            C[i][j + mid] = C12[i][j]\n",
    "            C[i + mid][j] = C21[i][j]\n",
    "            C[i + mid][j + mid] = C22[i][j]\n",
    "            \n",
    "    return C\n",
    "\n",
    "def next_power_of_two(x):\n",
    "    return 1 if x == 0 else 2**(x - 1).bit_length()\n",
    "\n",
    "def pad_matrix(A, size):\n",
    "    old_size = len(A)\n",
    "    padded = [[0]*size for _ in range(size)]\n",
    "    for i in range(old_size):\n",
    "        for j in range(old_size):\n",
    "            padded[i][j] = A[i][j]\n",
    "    return padded\n",
    "\n",
    "\n",
    "n = 512\n",
    "A_list, B_list = generate_random_square_matrix(n)\n",
    "\n",
    "size_pow2 = next_power_of_two(n)\n",
    "A_pad = pad_matrix(A_list, size_pow2)\n",
    "B_pad = pad_matrix(B_list, size_pow2)\n",
    "\n",
    "# Timing standard multiplication\n",
    "start_list = time.time()\n",
    "_ = list_of__list(A_list, B_list, n)\n",
    "t_list = time.time() - start_list\n",
    "\n",
    "# Timing Strassen\n",
    "start_strassen = time.time()\n",
    "C_strassen_padded = strassen(A_pad, B_pad)\n",
    "t_strassen = time.time() - start_strassen\n",
    "\n",
    "# Print results\n",
    "print(f\"Matrix size: {n}x{n}\")\n",
    "print(f\"List of lists method time: {t_list:.6f} seconds\")\n",
    "print(f\"Strassen time:              {t_strassen:.6f} seconds\")"
   ]
  },
  {
   "cell_type": "markdown",
   "id": "104a9bce",
   "metadata": {},
   "source": [
    "##### **3. Finding the highest element in a list requires one pass of the array. Finding the second highest element requires 2 passes of the array. Using this method, what is the time complexity of finding the median of the array? Can you suggest a better method? Can you implement both these methods in Python and compare against numpy.median routine in terms of time?**"
   ]
  },
  {
   "cell_type": "markdown",
   "id": "01e3720e",
   "metadata": {},
   "source": [
    "Answer:\n",
    "\n",
    "- Considering in the worst case the largest element is in the last position thus we require to traverse the whole list which need O(n) time. Similarly for second largest element it is in the second last place, thus we again need to almost traverse the whole list[n-1 elements]. \n",
    "- Similarly we continue this algorithm and we need to find the k<sup>th</sup> largest element, in our case k = n/2 or (n+1/2), each pass does O(n) time, therefore the median would be obtained in O(n<sup>2</sup>) time.\n",
    "\n",
    "- Better approach is to sort the whole list and just pick the middle element from that. Now for sorting we can use quicksort because we just need to find the median hence sorting all the data is not required. "
   ]
  },
  {
   "cell_type": "code",
   "execution_count": null,
   "id": "9fa7d9c7",
   "metadata": {},
   "outputs": [
    {
     "name": "stdout",
     "output_type": "stream",
     "text": [
      "\n",
      "--- Size: 10000 ---\n",
      "Naive O(n^2) time: 0.5970 sec\n",
      "Quickselect O(n) avg time: 0.0008 sec\n",
      "NumPy median time: 0.0002 sec\n",
      "\n",
      "--- Size: 50000 ---\n",
      "Naive O(n^2) time: 15.2519 sec\n",
      "Quickselect O(n) avg time: 0.0526 sec\n",
      "NumPy median time: 0.0005 sec\n"
     ]
    }
   ],
   "source": [
    "import time\n",
    "import random\n",
    "import numpy as np\n",
    "\n",
    "######### Naive algo ###################\n",
    "\n",
    "def median_naive(lst):\n",
    "    lst_copy = lst[:]  # making a copy of original and working on that\n",
    "    n = len(lst_copy)\n",
    "    target_index = n // 2\n",
    "    for _ in range(target_index):\n",
    "        max_val = max(lst_copy)\n",
    "        lst_copy.remove(max_val)\n",
    "    return max(lst_copy) if n % 2 == 1 else sum(sorted(lst_copy)[-2:]) / 2\n",
    "\n",
    "############ Quick select ##################\n",
    "\n",
    "def quickselect(lst, k):\n",
    "  \n",
    "    if len(lst) == 1:\n",
    "        return lst[0]\n",
    "    pivot = random.choice(lst)\n",
    "    lows  = [el for el in lst if el < pivot]\n",
    "    highs = [el for el in lst if el > pivot]\n",
    "    pivots = [el for el in lst if el == pivot]\n",
    "    \n",
    "    if k < len(lows):\n",
    "        return quickselect(lows, k)\n",
    "    elif k < len(lows) + len(pivots):\n",
    "        return pivot\n",
    "    else:\n",
    "        return quickselect(highs, k - len(lows) - len(pivots))\n",
    "\n",
    "def median_quickselect(lst):\n",
    "    n = len(lst)\n",
    "    if n % 2 == 1:\n",
    "        return quickselect(lst, n // 2)\n",
    "    else:\n",
    "        return 0.5 * (quickselect(lst, n // 2 - 1) + quickselect(lst, n // 2))\n",
    "\n",
    "####### Compare #################\n",
    "sizes = [10_000, 50_000]  # adjust sizes\n",
    "for size in sizes:\n",
    "    data = [random.randint(0, 10**6) for _ in range(size)]\n",
    "    data_np = np.array(data)\n",
    "    \n",
    "    print(f\"\\n--- Size: {size} ---\")\n",
    "    \n",
    "\n",
    "    start = time.time()\n",
    "    median_naive(data)\n",
    "    end = time.time()\n",
    "    print(f\"Naive O(n^2) time: {end - start:.4f} sec\")\n",
    "    \n",
    "    \n",
    "    start = time.time()\n",
    "    median_quickselect(data)\n",
    "    end = time.time()\n",
    "    print(f\"Quickselect O(n) avg time: {end - start:.4f} sec\")\n",
    "    \n",
    "    start = time.perf_counter()\n",
    "    np.median(data_np)\n",
    "    end = time.perf_counter()\n",
    "    print(f\"NumPy median time: {end - start:.4f} sec\")\n"
   ]
  },
  {
   "cell_type": "markdown",
   "id": "103d1be4",
   "metadata": {},
   "source": [
    "There are multiple reasons for Numpy being so fast in calculating median:\n",
    "- First it's highly optimised and under the hood it's working in C.\n",
    "- Second it uses partion algorithm to that runs in average O(n) time, and it doesn't necessarily sort the whole array.It rearranges the array such that the median element is in its final sorted position, without fully sorting all elements."
   ]
  },
  {
   "cell_type": "markdown",
   "id": "138048f6",
   "metadata": {},
   "source": [
    "#### **4.What is the gradient of the following function with respect to x and y?**\n",
    "\n",
    "Answer:\n",
    "\n",
    "Gradient with respect to x = (2x)y + y<sup>3</sup>cos(x)\n",
    "\n",
    "Gradient with respect to y = x<sup>2</sup> + 3y<sup>2</sup>sin(x)\n",
    "\n",
    "So final, \n",
    "\n",
    "$\\nabla f(x, y) = \\left( 2xy + y^3 \\cos(x),\\; x^2 + 3y^2 \\sin(x) \\right)$\n",
    "#### 4.What is the gradient of the following function with respect to x and y?\n",
    "\n",
    "Answer:\n",
    "\n",
    "Gradient with respect to x = (2x)y + y<sup>3</sup>cos(x)\n",
    "\n",
    "Gradient with respect to y = x<sup>2</sup> + 3y<sup>2</sup>sin(x)\n",
    "\n",
    "So final, \n",
    "\n",
    "$\\nabla f(x, y) = \\left( 2xy + y^3 \\cos(x),\\; x^2 + 3y^2 \\sin(x) \\right)$\n"
   ]
  },
  {
   "cell_type": "code",
   "execution_count": 1,
   "id": "0a535d5d",
   "metadata": {},
   "outputs": [
    {
     "name": "stdout",
     "output_type": "stream",
     "text": [
      "Requirement already satisfied: jax in c:\\users\\tirth\\appdata\\local\\programs\\python\\python311\\lib\\site-packages (0.4.21)\n",
      "Collecting jax\n",
      "  Using cached jax-0.7.0-py3-none-any.whl (2.8 MB)\n",
      "Requirement already satisfied: jaxlib<=0.7.0,>=0.7.0 in c:\\users\\tirth\\appdata\\local\\programs\\python\\python311\\lib\\site-packages (from jax) (0.7.0)\n",
      "Requirement already satisfied: ml_dtypes>=0.5.0 in c:\\users\\tirth\\appdata\\local\\programs\\python\\python311\\lib\\site-packages (from jax) (0.5.3)\n",
      "Requirement already satisfied: numpy>=1.26 in c:\\users\\tirth\\appdata\\local\\programs\\python\\python311\\lib\\site-packages (from jax) (1.26.4)\n",
      "Requirement already satisfied: opt_einsum in c:\\users\\tirth\\appdata\\local\\programs\\python\\python311\\lib\\site-packages (from jax) (3.4.0)\n",
      "Requirement already satisfied: scipy>=1.12 in c:\\users\\tirth\\appdata\\local\\programs\\python\\python311\\lib\\site-packages (from jax) (1.13.0)\n",
      "Installing collected packages: jax\n",
      "  Attempting uninstall: jax\n",
      "    Found existing installation: jax 0.4.21\n",
      "    Uninstalling jax-0.4.21:\n",
      "      Successfully uninstalled jax-0.4.21\n",
      "Successfully installed jax-0.7.0\n"
     ]
    },
    {
     "name": "stderr",
     "output_type": "stream",
     "text": [
      "\n",
      "[notice] A new release of pip is available: 23.1.2 -> 25.2\n",
      "[notice] To update, run: python.exe -m pip install --upgrade pip\n"
     ]
    }
   ],
   "source": [
    "!pip install --upgrade jax"
   ]
  },
  {
   "cell_type": "markdown",
   "id": "e1b375de",
   "metadata": {},
   "source": [
    "#### **5.Use JAX to confirm the gradient evaluated by your method matches the analytical solution corresponding to a few random values of x and y**"
   ]
  },
  {
   "cell_type": "code",
   "execution_count": null,
   "id": "664dd954",
   "metadata": {},
   "outputs": [
    {
     "name": "stdout",
     "output_type": "stream",
     "text": [
      "Test 1\n",
      "x, y = [4.4766703 4.785799 ]\n",
      "Analytical gradient: [ 17.249584 -46.77094 ]\n",
      "JAX gradient:        [ 17.249584 -46.77094 ]\n",
      "Match? True\n",
      "\n",
      "Test 2\n",
      "x, y = [ 3.4231412 -3.1762135]\n",
      "Analytical gradient: [9.035805 3.30896 ]\n",
      "JAX gradient:        [9.035805 3.30896 ]\n",
      "Match? True\n",
      "\n",
      "Test 3\n",
      "x, y = [-2.1728003  2.8809726]\n",
      "Analytical gradient: [-26.060854 -15.801586]\n",
      "JAX gradient:        [-26.060854 -15.801586]\n",
      "Match? True\n",
      "\n",
      "Test 4\n",
      "x, y = [-4.282542  -1.3747907]\n",
      "Analytical gradient: [12.858043 23.4945  ]\n",
      "JAX gradient:        [12.858043 23.4945  ]\n",
      "Match? True\n",
      "\n",
      "Test 5\n",
      "x, y = [-4.4137754 -2.8242433]\n",
      "Analytical gradient: [31.558537 42.35149 ]\n",
      "JAX gradient:        [31.558537 42.35149 ]\n",
      "Match? True\n",
      "\n"
     ]
    }
   ],
   "source": [
    "import jax\n",
    "import jax.numpy as jnp\n",
    "import numpy as np\n",
    "\n",
    "\n",
    "def f(vars):\n",
    "    x, y = vars\n",
    "    return x**2 * y + y**3 * jnp.sin(x)\n",
    "\n",
    "\n",
    "def grad_analytical(vars):\n",
    "    x, y = vars\n",
    "    df_dx = 2*x*y + y**3 * jnp.cos(x)\n",
    "    df_dy = x**2 + 3*y**2 * jnp.sin(x)\n",
    "    return jnp.array([df_dx, df_dy])\n",
    "\n",
    "\n",
    "grad_jax = jax.grad(f)\n",
    "\n",
    "\n",
    "key = jax.random.PRNGKey(0)\n",
    "for i in range(5):\n",
    "    xy = jax.random.uniform(key, shape=(2,), minval=-5, maxval=5)\n",
    "    key, _ = jax.random.split(key)\n",
    "\n",
    "    grad_a = grad_analytical(xy)\n",
    "    grad_j = grad_jax(xy)\n",
    "\n",
    "    print(f\"Test {i+1}\")\n",
    "    print(f\"x, y = {xy}\")\n",
    "    print(f\"Analytical gradient: {grad_a}\")\n",
    "    print(f\"JAX gradient:        {grad_j}\")\n",
    "    print(f\"Match? {jnp.allclose(grad_a, grad_j)}\\n\")\n"
   ]
  },
  {
   "cell_type": "code",
   "execution_count": 3,
   "id": "ece5ac43",
   "metadata": {},
   "outputs": [
    {
     "name": "stdout",
     "output_type": "stream",
     "text": [
      "Collecting sympy\n",
      "  Downloading sympy-1.14.0-py3-none-any.whl (6.3 MB)\n",
      "                                              0.0/6.3 MB ? eta -:--:--\n",
      "     -                                        0.2/6.3 MB 3.5 MB/s eta 0:00:02\n",
      "     ---                                      0.6/6.3 MB 6.4 MB/s eta 0:00:01\n",
      "     ----                                     0.6/6.3 MB 5.0 MB/s eta 0:00:02\n",
      "     --------                                 1.3/6.3 MB 7.0 MB/s eta 0:00:01\n",
      "     ---------                                1.5/6.3 MB 6.4 MB/s eta 0:00:01\n",
      "     ------------                             2.0/6.3 MB 7.4 MB/s eta 0:00:01\n",
      "     -------------                            2.2/6.3 MB 6.6 MB/s eta 0:00:01\n",
      "     ---------------                          2.5/6.3 MB 7.3 MB/s eta 0:00:01\n",
      "     -------------------                      3.0/6.3 MB 7.1 MB/s eta 0:00:01\n",
      "     ---------------------                    3.3/6.3 MB 7.3 MB/s eta 0:00:01\n",
      "     -----------------------                  3.7/6.3 MB 7.1 MB/s eta 0:00:01\n",
      "     -------------------------                4.0/6.3 MB 7.2 MB/s eta 0:00:01\n",
      "     ---------------------------              4.3/6.3 MB 7.1 MB/s eta 0:00:01\n",
      "     -----------------------------            4.6/6.3 MB 7.2 MB/s eta 0:00:01\n",
      "     -------------------------------          5.0/6.3 MB 7.1 MB/s eta 0:00:01\n",
      "     ---------------------------------        5.3/6.3 MB 7.1 MB/s eta 0:00:01\n",
      "     ------------------------------------     5.8/6.3 MB 7.1 MB/s eta 0:00:01\n",
      "     ---------------------------------------  6.2/6.3 MB 7.2 MB/s eta 0:00:01\n",
      "     ---------------------------------------- 6.3/6.3 MB 6.9 MB/s eta 0:00:00\n",
      "Collecting mpmath<1.4,>=1.1.0 (from sympy)\n",
      "  Downloading mpmath-1.3.0-py3-none-any.whl (536 kB)\n",
      "                                              0.0/536.2 kB ? eta -:--:--\n",
      "     -----------------------------          419.8/536.2 kB 8.9 MB/s eta 0:00:01\n",
      "     -------------------------------------- 536.2/536.2 kB 6.7 MB/s eta 0:00:00\n",
      "Installing collected packages: mpmath, sympy\n",
      "Successfully installed mpmath-1.3.0 sympy-1.14.0\n"
     ]
    },
    {
     "name": "stderr",
     "output_type": "stream",
     "text": [
      "\n",
      "[notice] A new release of pip is available: 23.1.2 -> 25.2\n",
      "[notice] To update, run: python.exe -m pip install --upgrade pip\n"
     ]
    }
   ],
   "source": [
    "!pip install sympy"
   ]
  },
  {
   "cell_type": "markdown",
   "id": "81c629bf",
   "metadata": {},
   "source": [
    "##### **6.Use sympy to confirm that you obtain the same gradient analytically.**"
   ]
  },
  {
   "cell_type": "code",
   "execution_count": 4,
   "id": "42ec81a3",
   "metadata": {},
   "outputs": [
    {
     "name": "stdout",
     "output_type": "stream",
     "text": [
      "Symbolic ∂f/∂x: 2*x*y + y**3*cos(x)\n",
      "Symbolic ∂f/∂y: x**2 + 3*y**2*sin(x)\n",
      "(x, y) = (1.370, -2.302)\n",
      "SymPy grad: [-8.74412251 17.45463072]\n",
      "Manual grad: [-8.74412251 17.45463072]\n",
      "Match? True \n",
      "\n",
      "(x, y) = (-4.590, -4.835)\n",
      "SymPy grad: [58.15224014 90.67191482]\n",
      "Manual grad: [58.15224014 90.67191482]\n",
      "Match? True \n",
      "\n",
      "(x, y) = (3.133, 4.128)\n",
      "SymPy grad: [-44.45641159  10.26820089]\n",
      "Manual grad: [-44.45641159  10.26820089]\n",
      "Match? True \n",
      "\n",
      "(x, y) = (1.066, 2.295)\n",
      "SymPy grad: [10.73648426 14.96969159]\n",
      "Manual grad: [10.73648426 14.96969159]\n",
      "Match? True \n",
      "\n",
      "(x, y) = (0.436, 4.351)\n",
      "SymPy grad: [78.4369407  24.18504462]\n",
      "Manual grad: [78.4369407  24.18504462]\n",
      "Match? True \n",
      "\n"
     ]
    }
   ],
   "source": [
    "import sympy as sp\n",
    "import numpy as np\n",
    "\n",
    "\n",
    "x, y = sp.symbols('x y')\n",
    "\n",
    "\n",
    "f = x**2 * y + y**3 * sp.sin(x)\n",
    "\n",
    "# Symbolic gradients\n",
    "df_dx = sp.diff(f, x)\n",
    "df_dy = sp.diff(f, y)\n",
    "\n",
    "print(\"Symbolic ∂f/∂x:\", df_dx)\n",
    "print(\"Symbolic ∂f/∂y:\", df_dy)\n",
    "\n",
    "# Convert symbolic derivatives to numeric functions\n",
    "df_dx_func = sp.lambdify((x, y), df_dx, 'numpy')\n",
    "df_dy_func = sp.lambdify((x, y), df_dy, 'numpy')\n",
    "\n",
    "# Analytical gradient (manually derived)\n",
    "def grad_analytical(x_val, y_val):\n",
    "    return np.array([2*x_val*y_val + y_val**3 * np.cos(x_val),\n",
    "                     x_val**2 + 3*y_val**2 * np.sin(x_val)], dtype=float)\n",
    "\n",
    "# Test on a few random points\n",
    "rng = np.random.default_rng(0)\n",
    "points = rng.uniform(-5, 5, size=(5, 2))\n",
    "\n",
    "for px, py in points:\n",
    "    grad_sympy = np.array([df_dx_func(px, py), df_dy_func(px, py)], dtype=float)\n",
    "    grad_manual = grad_analytical(px, py)\n",
    "    print(f\"(x, y) = ({px:.3f}, {py:.3f})\")\n",
    "    print(\"SymPy grad:\", grad_sympy)\n",
    "    print(\"Manual grad:\", grad_manual)\n",
    "    print(\"Match?\", np.allclose(grad_sympy, grad_manual), \"\\n\")\n"
   ]
  },
  {
   "cell_type": "markdown",
   "id": "3cb08256",
   "metadata": {},
   "source": [
    "#### **7. Create a Python nested dictionary to represent hierarchical information. We want to store record of students and their marks.**"
   ]
  },
  {
   "cell_type": "code",
   "execution_count": null,
   "id": "d62ffc58",
   "metadata": {},
   "outputs": [
    {
     "name": "stdout",
     "output_type": "stream",
     "text": [
      "100\n"
     ]
    }
   ],
   "source": [
    "students_data = {\n",
    "    2022: {\n",
    "        \"Branch 1\": [\n",
    "            {\n",
    "                \"Roll Number\": 1,\n",
    "                \"Name\": \"Tanmay\",\n",
    "                \"Marks\": {\"Maths\": 100, \"English\": 70, \"Science\": 85}\n",
    "            },\n",
    "            {\n",
    "                \"Roll Number\": 2,\n",
    "                \"Name\": \"Rahul\",\n",
    "                \"Marks\": {\"Maths\": 90, \"English\": 80, \"Science\": 88}\n",
    "            }\n",
    "        ],\n",
    "        \"Branch 2\": [\n",
    "            {\n",
    "                \"Roll Number\": 3,\n",
    "                \"Name\": \"Mukesh\",\n",
    "                \"Marks\": {\"Maths\": 78, \"English\": 85, \"Science\": 82}\n",
    "            }\n",
    "        ]\n",
    "    },\n",
    "    2023: {\n",
    "        \"Branch 1\": [],\n",
    "        \"Branch 2\": []\n",
    "    },\n",
    "    2024: {\n",
    "        \"Branch 1\": [],\n",
    "        \"Branch 2\": []\n",
    "    },\n",
    "    2025: {\n",
    "        \"Branch 1\": [],\n",
    "        \"Branch 2\": []\n",
    "    }\n",
    "}\n",
    "\n",
    "print(students_data[2022][\"Branch 1\"][0][\"Marks\"][\"Maths\"])\n"
   ]
  },
  {
   "cell_type": "markdown",
   "id": "163d4eb2",
   "metadata": {},
   "source": [
    "##### **8. Store the same information using Python classes. We have an overall database which is a list of year objects. Each year contains a list of branches. Each branch contains a list of students. Each student has some properties like name, roll number and has marks in some subjects.**"
   ]
  },
  {
   "cell_type": "code",
   "execution_count": null,
   "id": "de2d538f",
   "metadata": {},
   "outputs": [
    {
     "name": "stdout",
     "output_type": "stream",
     "text": [
      "Database(Years: 2)\n",
      "100\n"
     ]
    }
   ],
   "source": [
    "class Student:\n",
    "    def __init__(self, roll_number, name, marks):\n",
    "        self.roll_number = roll_number\n",
    "        self.name = name\n",
    "        self.marks = marks\n",
    "\n",
    "    def __repr__(self):\n",
    "        return f\"Student(Roll: {self.roll_number}, Name: {self.name}, Marks: {self.marks})\" #used t0 describe class as string\n",
    "\n",
    "\n",
    "class Branch:\n",
    "    def __init__(self, branch_name):\n",
    "        self.branch_name = branch_name\n",
    "        self.students = []\n",
    "\n",
    "    def add_student(self, student):\n",
    "        self.students.append(student)\n",
    "\n",
    "    def __repr__(self):\n",
    "        return f\"Branch(Name: {self.branch_name}, Students: {len(self.students)})\"\n",
    "\n",
    "\n",
    "class Year:\n",
    "    def __init__(self, year):\n",
    "        self.year = year\n",
    "        self.branches = []\n",
    "\n",
    "    def add_branch(self, branch):\n",
    "        self.branches.append(branch)\n",
    "\n",
    "    def __repr__(self):\n",
    "        return f\"Year({self.year}, Branches: {len(self.branches)})\"\n",
    "\n",
    "\n",
    "class Database:\n",
    "    def __init__(self):\n",
    "        self.years = []\n",
    "\n",
    "    def add_year(self, year):\n",
    "        self.years.append(year)\n",
    "\n",
    "    def __repr__(self):\n",
    "        return f\"Database(Years: {len(self.years)})\"\n",
    "\n",
    "db = Database()\n",
    "\n",
    "\n",
    "year_2022 = Year(2022)\n",
    "\n",
    "branch1_2022 = Branch(\"Branch 1\")\n",
    "branch1_2022.add_student(Student(1, \"Tanmay\", {\"Maths\": 100, \"English\": 70, \"Science\": 85}))\n",
    "branch1_2022.add_student(Student(2, \"Rahul\", {\"Maths\": 90, \"English\": 80, \"Science\": 88}))\n",
    "\n",
    "branch2_2022 = Branch(\"Branch 2\")\n",
    "branch2_2022.add_student(Student(3, \"Mukesh\", {\"Maths\": 78, \"English\": 85, \"Science\": 82}))\n",
    "\n",
    "year_2022.add_branch(branch1_2022)\n",
    "year_2022.add_branch(branch2_2022)\n",
    "\n",
    "db.add_year(year_2022)\n",
    "\n",
    "year_2023 = Year(2023)\n",
    "year_2023.add_branch(Branch(\"Branch 1\"))\n",
    "year_2023.add_branch(Branch(\"Branch 2\"))\n",
    "db.add_year(year_2023)\n",
    "\n",
    "print(db) #here's where __repr__ function will work\n",
    "print(db.years[0].branches[0].students[0].marks[\"Maths\"])\n"
   ]
  },
  {
   "cell_type": "code",
   "execution_count": 3,
   "id": "b5181b17",
   "metadata": {},
   "outputs": [
    {
     "name": "stdout",
     "output_type": "stream",
     "text": [
      "Collecting matplotlib\n",
      "  Downloading matplotlib-3.10.5-cp311-cp311-win_amd64.whl (8.1 MB)\n",
      "                                              0.0/8.1 MB ? eta -:--:--\n",
      "                                              0.1/8.1 MB 4.2 MB/s eta 0:00:02\n",
      "     ---                                      0.7/8.1 MB 6.9 MB/s eta 0:00:02\n",
      "     ---                                      0.8/8.1 MB 5.6 MB/s eta 0:00:02\n",
      "     ------                                   1.3/8.1 MB 6.4 MB/s eta 0:00:02\n",
      "     --------                                 1.6/8.1 MB 7.0 MB/s eta 0:00:01\n",
      "     --------                                 1.8/8.1 MB 5.9 MB/s eta 0:00:02\n",
      "     ------------                             2.5/8.1 MB 7.1 MB/s eta 0:00:01\n",
      "     -------------                            2.8/8.1 MB 7.0 MB/s eta 0:00:01\n",
      "     ---------------                          3.1/8.1 MB 7.3 MB/s eta 0:00:01\n",
      "     ----------------                         3.4/8.1 MB 7.1 MB/s eta 0:00:01\n",
      "     ------------------                       3.8/8.1 MB 7.1 MB/s eta 0:00:01\n",
      "     --------------------                     4.2/8.1 MB 7.2 MB/s eta 0:00:01\n",
      "     ----------------------                   4.5/8.1 MB 7.1 MB/s eta 0:00:01\n",
      "     ------------------------                 4.9/8.1 MB 7.3 MB/s eta 0:00:01\n",
      "     --------------------------               5.3/8.1 MB 7.2 MB/s eta 0:00:01\n",
      "     ---------------------------              5.5/8.1 MB 7.3 MB/s eta 0:00:01\n",
      "     -----------------------------            5.9/8.1 MB 7.2 MB/s eta 0:00:01\n",
      "     ------------------------------           6.3/8.1 MB 7.2 MB/s eta 0:00:01\n",
      "     --------------------------------         6.5/8.1 MB 7.1 MB/s eta 0:00:01\n",
      "     ---------------------------------        6.8/8.1 MB 7.1 MB/s eta 0:00:01\n",
      "     -----------------------------------      7.1/8.1 MB 7.0 MB/s eta 0:00:01\n",
      "     ------------------------------------     7.5/8.1 MB 7.0 MB/s eta 0:00:01\n",
      "     --------------------------------------   7.8/8.1 MB 7.0 MB/s eta 0:00:01\n",
      "     ---------------------------------------  8.1/8.1 MB 7.0 MB/s eta 0:00:01\n",
      "     ---------------------------------------- 8.1/8.1 MB 6.7 MB/s eta 0:00:00\n",
      "Collecting contourpy>=1.0.1 (from matplotlib)\n",
      "  Downloading contourpy-1.3.3-cp311-cp311-win_amd64.whl (225 kB)\n",
      "                                              0.0/225.2 kB ? eta -:--:--\n",
      "     ------------------------------------- 225.2/225.2 kB 13.4 MB/s eta 0:00:00\n",
      "Collecting cycler>=0.10 (from matplotlib)\n",
      "  Using cached cycler-0.12.1-py3-none-any.whl (8.3 kB)\n",
      "Collecting fonttools>=4.22.0 (from matplotlib)\n",
      "  Downloading fonttools-4.59.0-cp311-cp311-win_amd64.whl (2.3 MB)\n",
      "                                              0.0/2.3 MB ? eta -:--:--\n",
      "     -----                                    0.3/2.3 MB 10.6 MB/s eta 0:00:01\n",
      "     -----------                              0.6/2.3 MB 7.9 MB/s eta 0:00:01\n",
      "     -----------------                        1.0/2.3 MB 7.8 MB/s eta 0:00:01\n",
      "     -----------------------                  1.4/2.3 MB 7.8 MB/s eta 0:00:01\n",
      "     ------------------------------           1.7/2.3 MB 7.8 MB/s eta 0:00:01\n",
      "     ------------------------------------     2.0/2.3 MB 7.7 MB/s eta 0:00:01\n",
      "     ---------------------------------------  2.3/2.3 MB 7.6 MB/s eta 0:00:01\n",
      "     ---------------------------------------- 2.3/2.3 MB 7.2 MB/s eta 0:00:00\n",
      "Collecting kiwisolver>=1.3.1 (from matplotlib)\n",
      "  Downloading kiwisolver-1.4.8-cp311-cp311-win_amd64.whl (71 kB)\n",
      "                                              0.0/72.0 kB ? eta -:--:--\n",
      "     ---------------------------------------- 72.0/72.0 kB ? eta 0:00:00\n",
      "Requirement already satisfied: numpy>=1.23 in c:\\users\\tirth\\appdata\\local\\programs\\python\\python311\\lib\\site-packages (from matplotlib) (1.26.4)\n",
      "Requirement already satisfied: packaging>=20.0 in c:\\users\\tirth\\appdata\\local\\programs\\python\\python311\\lib\\site-packages (from matplotlib) (23.2)\n",
      "Requirement already satisfied: pillow>=8 in c:\\users\\tirth\\appdata\\local\\programs\\python\\python311\\lib\\site-packages (from matplotlib) (10.3.0)\n",
      "Requirement already satisfied: pyparsing>=2.3.1 in c:\\users\\tirth\\appdata\\local\\programs\\python\\python311\\lib\\site-packages (from matplotlib) (3.1.1)\n",
      "Requirement already satisfied: python-dateutil>=2.7 in c:\\users\\tirth\\appdata\\local\\programs\\python\\python311\\lib\\site-packages (from matplotlib) (2.9.0.post0)\n",
      "Requirement already satisfied: six>=1.5 in c:\\users\\tirth\\appdata\\local\\programs\\python\\python311\\lib\\site-packages (from python-dateutil>=2.7->matplotlib) (1.16.0)\n",
      "Installing collected packages: kiwisolver, fonttools, cycler, contourpy, matplotlib\n",
      "Successfully installed contourpy-1.3.3 cycler-0.12.1 fonttools-4.59.0 kiwisolver-1.4.8 matplotlib-3.10.5\n"
     ]
    },
    {
     "name": "stderr",
     "output_type": "stream",
     "text": [
      "\n",
      "[notice] A new release of pip is available: 23.1.2 -> 25.2\n",
      "[notice] To update, run: python.exe -m pip install --upgrade pip\n"
     ]
    }
   ],
   "source": [
    "!pip install matplotlib"
   ]
  },
  {
   "cell_type": "markdown",
   "id": "f3176447",
   "metadata": {},
   "source": [
    "#### **9. Using matplotlib plot the following functions on the domain: x = 0.5 to 100.0 in steps of 0.5.**"
   ]
  },
  {
   "cell_type": "code",
   "execution_count": null,
   "id": "056a597c",
   "metadata": {},
   "outputs": [
    {
     "data": {
      "image/png": "[encoded data removed]",
      "text/plain": [
       "<Figure size 1200x800 with 1 Axes>"
      ]
     },
     "metadata": {},
     "output_type": "display_data"
    }
   ],
   "source": [
    "import numpy as np\n",
    "import matplotlib.pyplot as plt\n",
    "\n",
    "# Domain\n",
    "x = np.arange(0.5, 100, 0.5)\n",
    "\n",
    "# Functions\n",
    "y1 = x\n",
    "y2 = x**2\n",
    "y3 = x**3 / 100\n",
    "y4 = np.sin(x)\n",
    "y5 = np.sin(x) / x\n",
    "y6 = np.log(x)       \n",
    "y7 = np.exp(x)\n",
    "\n",
    "\n",
    "plt.figure(figsize=(12, 8))\n",
    "plt.plot(x, y1, label=r\"$y = x$\")\n",
    "plt.plot(x, y2, label=r\"$y = x^2$\")\n",
    "plt.plot(x, y3, label=r\"$y = \\frac{x^3}{100}$\")\n",
    "plt.plot(x, y4, label=r\"$y = \\sin(x)$\")\n",
    "plt.plot(x, y5, label=r\"$y = \\frac{\\sin(x)}{x}$\")\n",
    "plt.plot(x, y6, label=r\"$y = \\log(x)$\")\n",
    "\n",
    "# If not masked all other graphs would look too small to compare\n",
    "mask = x < 10\n",
    "plt.plot(x[mask], y7[mask], label=r\"$y = e^x$\")\n",
    "\n",
    "plt.xlabel(\"x\")\n",
    "plt.ylabel(\"y\")\n",
    "plt.title(\"Various Functions\")\n",
    "plt.legend()\n",
    "plt.grid(True)\n",
    "plt.show()\n"
   ]
  },
  {
   "cell_type": "markdown",
   "id": "9ceeb155",
   "metadata": {},
   "source": [
    "##### **10. Using numpy generate a matrix of size 20X5 containing random numbers drawn uniformly from the range of 1 to 2. Using Pandas create a dataframe out of this matrix. Name the columns of the dataframe as “a”, “b”, “c”, “d”, “e”. Find the column with the highest standard deviation. Find the row with the lowest mean.**"
   ]
  },
  {
   "cell_type": "code",
   "execution_count": 12,
   "id": "b547f30c",
   "metadata": {},
   "outputs": [
    {
     "name": "stdout",
     "output_type": "stream",
     "text": [
      "DataFrame:\n",
      "            a         b         c         d         e\n",
      "0   1.986437  1.268300  1.804537  1.291443  1.180610\n",
      "1   1.647306  1.252167  1.131427  1.081399  1.276570\n",
      "2   1.635517  1.303550  1.053448  1.502831  1.161849\n",
      "3   1.178520  1.348024  1.621948  1.308827  1.098573\n",
      "4   1.719091  1.204584  1.418514  1.369788  1.171664\n",
      "5   1.338537  1.734618  1.632843  1.269181  1.481305\n",
      "6   1.954073  1.008079  1.267979  1.546345  1.035392\n",
      "7   1.998730  1.502663  1.433242  1.357461  1.176700\n",
      "8   1.054275  1.863147  1.580338  1.697649  1.834334\n",
      "9   1.383201  1.426887  1.038569  1.323910  1.353442\n",
      "10  1.172859  1.554089  1.874045  1.998690  1.041585\n",
      "11  1.413716  1.951966  1.744393  1.730483  1.011790\n",
      "12  1.061871  1.510948  1.293594  1.949450  1.249182\n",
      "13  1.647548  1.434906  1.692093  1.552155  1.276951\n",
      "14  1.229061  1.234407  1.650282  1.686205  1.490169\n",
      "15  1.557753  1.194196  1.008392  1.812863  1.393459\n",
      "16  1.669084  1.165397  1.252758  1.270658  1.798745\n",
      "17  1.105588  1.207170  1.507786  1.360421  1.952818\n",
      "18  1.378955  1.615647  1.478430  1.236779  1.659259\n",
      "19  1.410392  1.165382  1.365046  1.869695  1.131599\n",
      "\n",
      "Column with highest standard deviation: a\n",
      "Row index with lowest mean: 1\n"
     ]
    }
   ],
   "source": [
    "import numpy as np\n",
    "import pandas as pd\n",
    "\n",
    "matrix = np.random.uniform(1, 2, size=(20, 5))\n",
    "\n",
    "\n",
    "df = pd.DataFrame(matrix, columns=[\"a\", \"b\", \"c\", \"d\", \"e\"])\n",
    "\n",
    "\n",
    "col_with_max_std = df.std().idxmax()\n",
    "\n",
    "row_with_min_mean = df.mean(axis=1).idxmin() #axis=1 tells to make row operations\n",
    "\n",
    "print(\"DataFrame:\\n\", df)\n",
    "print(\"\\nColumn with highest standard deviation:\", col_with_max_std)\n",
    "print(\"Row index with lowest mean:\", row_with_min_mean)\n"
   ]
  },
  {
   "cell_type": "markdown",
   "id": "fe3a8c24",
   "metadata": {},
   "source": [
    "##### **11. Add a new column to the dataframe called “f” which is the sum of the columns “a”, “b”, “c”, “d”, “e”. Create another column called “g”. The value in the column “g” should be “LT8” if the value in the column “f” is less than 8 and “GT8” otherwise. Find the number of rows in the dataframe where the value in the column “g” is “LT8”. Find the standard deviation of the column “f” for the rows where the value in the column “g” is “LT8” and “GT8” respectively.**"
   ]
  },
  {
   "cell_type": "code",
   "execution_count": null,
   "id": "34bd1a4a",
   "metadata": {},
   "outputs": [
    {
     "name": "stdout",
     "output_type": "stream",
     "text": [
      "DataFrame:\n",
      "            a         b         c         d         e         f    g\n",
      "0   1.333175  1.892539  1.269618  1.308849  1.413004  7.217186  LT8\n",
      "1   1.833299  1.729232  1.954095  1.139091  1.131178  7.786895  LT8\n",
      "2   1.736671  1.881875  1.917117  1.968596  1.428224  8.932483  GT8\n",
      "3   1.672217  1.534920  1.347897  1.492131  1.719142  7.766307  LT8\n",
      "4   1.625147  1.004411  1.635835  1.824685  1.092898  7.182977  LT8\n",
      "5   1.044079  1.520543  1.606419  1.862028  1.486206  7.519275  LT8\n",
      "6   1.815919  1.482181  1.330861  1.281924  1.689743  7.600629  LT8\n",
      "7   1.990164  1.336251  1.927894  1.737960  1.160383  8.152651  GT8\n",
      "8   1.013360  1.664065  1.009643  1.143127  1.351059  6.181254  LT8\n",
      "9   1.757181  1.716263  1.547972  1.792631  1.262181  8.076228  GT8\n",
      "10  1.563609  1.971973  1.525604  1.310126  1.045088  7.416400  LT8\n",
      "11  1.936860  1.361662  1.942694  1.642462  1.223047  8.106724  GT8\n",
      "12  1.394877  1.090033  1.112472  1.404584  1.452799  6.454765  LT8\n",
      "13  1.408974  1.821641  1.600189  1.993808  1.422317  8.246929  GT8\n",
      "14  1.010912  1.513646  1.787439  1.443760  1.973394  7.729150  LT8\n",
      "15  1.473939  1.792075  1.319865  1.474230  1.950926  8.011035  GT8\n",
      "16  1.297007  1.427629  1.598325  1.257900  1.968160  7.549021  LT8\n",
      "17  1.847862  1.436427  1.671103  1.991473  1.285570  8.232435  GT8\n",
      "18  1.242694  1.433738  1.560267  1.175598  1.522969  6.935264  LT8\n",
      "19  1.710198  1.455676  1.781701  1.769796  1.177186  7.894557  LT8\n",
      "\n",
      "Column with highest standard deviation: a\n",
      "Row index with lowest mean: 8\n",
      "\n",
      "Number of rows where g == 'LT8': 13\n",
      "Standard deviation of f (LT8): 0.5257717216728657\n",
      "Standard deviation of f (GT8): 0.31182173396131335\n"
     ]
    }
   ],
   "source": [
    "import numpy as np\n",
    "import pandas as pd\n",
    "\n",
    "matrix = np.random.uniform(1, 2, size=(20, 5))\n",
    "\n",
    "\n",
    "df = pd.DataFrame(matrix, columns=[\"a\", \"b\", \"c\", \"d\", \"e\"])\n",
    "\n",
    "col_with_max_std = df.std().idxmax()\n",
    "row_with_min_mean = df.mean(axis=1).idxmin()\n",
    "\n",
    "\n",
    "df[\"f\"] = df[[\"a\", \"b\", \"c\", \"d\", \"e\"]].sum(axis=1)\n",
    "\n",
    "df[\"g\"] = np.where(df[\"f\"] < 8, \"LT8\", \"GT8\")\n",
    "\n",
    "lt8_count = (df[\"g\"] == \"LT8\").sum()\n",
    "\n",
    "\n",
    "std_lt8 = df.loc[df[\"g\"] == \"LT8\", \"f\"].std()\n",
    "std_gt8 = df.loc[df[\"g\"] == \"GT8\", \"f\"].std()\n",
    "\n",
    "\n",
    "print(\"DataFrame:\\n\", df)\n",
    "print(\"\\nColumn with highest standard deviation:\", col_with_max_std)\n",
    "print(\"Row index with lowest mean:\", row_with_min_mean)\n",
    "print(\"\\nNumber of rows where g == 'LT8':\", lt8_count)\n",
    "print(\"Standard deviation of f (LT8):\", std_lt8)\n",
    "print(\"Standard deviation of f (GT8):\", std_gt8)\n"
   ]
  },
  {
   "cell_type": "markdown",
   "id": "52b4a805",
   "metadata": {},
   "source": [
    "#### **12. Write a small piece of code to explain broadcasting in numpy.**\n",
    "\n",
    "**Answer**:\n",
    "Broadcasting in NumPy is a set of rules that lets arrays of different shapes work together in arithmetic operations without explicitly copying or reshaping data.\n",
    "If the dimensions of the arrays don’t match, NumPy automatically “stretches” the smaller array along the missing or singleton dimensions so the shapes become compatible.\n",
    "\n"
   ]
  },
  {
   "cell_type": "code",
   "execution_count": 14,
   "id": "f5ee9ce8",
   "metadata": {},
   "outputs": [
    {
     "name": "stdout",
     "output_type": "stream",
     "text": [
      "A shape: (3, 1)\n",
      "B shape: (4,)\n",
      "Result C:\n",
      " [[ 10  20  30  40]\n",
      " [ 20  40  60  80]\n",
      " [ 30  60  90 120]]\n"
     ]
    }
   ],
   "source": [
    "import numpy as np\n",
    "\n",
    "\n",
    "A = np.array([[1],\n",
    "              [2],\n",
    "              [3]])\n",
    "\n",
    "\n",
    "B = np.array([10, 20, 30, 40])\n",
    "\n",
    "C = A * B\n",
    "\n",
    "print(\"A shape:\", A.shape)\n",
    "print(\"B shape:\", B.shape)\n",
    "print(\"Result C:\\n\", C)\n"
   ]
  },
  {
   "cell_type": "markdown",
   "id": "bb6809d6",
   "metadata": {},
   "source": [
    "#### **13. Write a function to compute the argmin of a numpy array. The function should take a numpy array as input and return the index of the minimum element. You can use the np.argmin function to verify your solution.**"
   ]
  },
  {
   "cell_type": "code",
   "execution_count": 15,
   "id": "55be6541",
   "metadata": {},
   "outputs": [
    {
     "name": "stdout",
     "output_type": "stream",
     "text": [
      "My argmin index: 3\n",
      "NumPy argmin index: 3\n"
     ]
    }
   ],
   "source": [
    "import numpy as np\n",
    "\n",
    "def manual_argmin(arr):\n",
    " \n",
    "    min_index = 0\n",
    "    min_value = arr[0]\n",
    "    \n",
    "    for i in range(1, len(arr)):\n",
    "        if arr[i] < min_value:\n",
    "            min_value = arr[i]\n",
    "            min_index = i\n",
    "            \n",
    "    return min_index\n",
    "\n",
    "\n",
    "arr = np.array([5, 2, 8, -3, 7, -1])\n",
    "\n",
    "\n",
    "print(\"My argmin index:\", manual_argmin(arr))\n",
    "\n",
    "print(\"NumPy argmin index:\", np.argmin(arr))\n"
   ]
  },
  {
   "cell_type": "code",
   "execution_count": null,
   "id": "0fb89667",
   "metadata": {},
   "outputs": [],
   "source": []
  }
 ],
 "metadata": {
  "kernelspec": {
   "display_name": "Python 3",
   "language": "python",
   "name": "python3"
  },
  "language_info": {
   "codemirror_mode": {
    "name": "ipython",
    "version": 3
   },
   "file_extension": ".py",
   "mimetype": "text/x-python",
   "name": "python",
   "nbconvert_exporter": "python",
   "pygments_lexer": "ipython3",
   "version": "3.11.4"
  }
 },
 "nbformat": 4,
 "nbformat_minor": 5
}
